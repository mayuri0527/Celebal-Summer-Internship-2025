{
 "cells": [
  {
   "cell_type": "markdown",
   "metadata": {
    "application/vnd.databricks.v1+cell": {
     "cellMetadata": {},
     "inputWidgets": {},
     "nuid": "5fa4b528-88ee-4919-9613-7835ad53883d",
     "showTitle": false,
     "tableResultSettingsMap": {},
     "title": ""
    }
   },
   "source": [
    "## **Setting Up Aws/Azure Credentials**"
   ]
  },
  {
   "cell_type": "code",
   "execution_count": 0,
   "metadata": {
    "application/vnd.databricks.v1+cell": {
     "cellMetadata": {
      "byteLimit": 2048000,
      "rowLimit": 10000
     },
     "inputWidgets": {},
     "nuid": "80ff3233-d7c5-44c4-aff2-ca08250ebcb0",
     "showTitle": false,
     "tableResultSettingsMap": {},
     "title": ""
    }
   },
   "outputs": [],
   "source": [
    "# Load AWS credentials securely from secret scope\n",
    "ACCESS_KEY = dbutils.secrets.get(scope=\"aws-creds\", key=\"aws-access-key\")\n",
    "SECRET_KEY = dbutils.secrets.get(scope=\"aws-creds\", key=\"aws-secret-key\")\n",
    "\n",
    "# Set S3 access in Spark config\n",
    "spark._jsc.hadoopConfiguration().set(\"fs.s3a.access.key\", ACCESS_KEY)\n",
    "spark._jsc.hadoopConfiguration().set(\"fs.s3a.secret.key\", SECRET_KEY)\n",
    "spark._jsc.hadoopConfiguration().set(\"fs.s3a.endpoint\", \"s3.amazonaws.com\")\n"
   ]
  },
  {
   "cell_type": "markdown",
   "metadata": {
    "application/vnd.databricks.v1+cell": {
     "cellMetadata": {},
     "inputWidgets": {},
     "nuid": "3c0f7a59-9038-408f-a18f-0af380d6dc16",
     "showTitle": false,
     "tableResultSettingsMap": {},
     "title": ""
    }
   },
   "source": [
    "## **Load Raw Transactions from S3 and Write to Bronze Delta Table**"
   ]
  },
  {
   "cell_type": "code",
   "execution_count": 0,
   "metadata": {
    "application/vnd.databricks.v1+cell": {
     "cellMetadata": {
      "byteLimit": 2048000,
      "rowLimit": 10000
     },
     "inputWidgets": {},
     "nuid": "3d58d760-bf51-41d0-b70b-da9751b82efc",
     "showTitle": false,
     "tableResultSettingsMap": {},
     "title": ""
    }
   },
   "outputs": [
    {
     "output_type": "stream",
     "name": "stdout",
     "output_type": "stream",
     "text": [
      "root\n |-- transaction_id: string (nullable = true)\n |-- product_id: string (nullable = true)\n |-- customer_id: string (nullable = true)\n |-- amount: string (nullable = true)\n |-- channel: string (nullable = false)\n |-- transaction_date: string (nullable = true)\n |-- campaign_id: string (nullable = true)\n\n+--------------+----------+-----------+-------+-------+----------------+-----------+\n|transaction_id|product_id|customer_id| amount|channel|transaction_date|campaign_id|\n+--------------+----------+-----------+-------+-------+----------------+-----------+\n|   TXN00000002|  PRD00017|  CUST00231|2379.87|    web|      2024-04-28|  CAMPAIGN1|\n|   TXN00000004|  PRD00058|  CUST00449|2190.22|    web|      2024-03-27|       NULL|\n|   TXN00000005|  PRD00074|  CUST00321|2337.32|    web|      2024-02-29|  CAMPAIGN1|\n|   TXN00000007|  PRD00065|  CUST00219|2602.37|    web|      2024-04-29|  CAMPAIGN1|\n|   TXN00000010|  PRD00083|  CUST00080|1751.72|    web|      2024-02-24|       NULL|\n+--------------+----------+-----------+-------+-------+----------------+-----------+\nonly showing top 5 rows\n\n"
     ]
    }
   ],
   "source": [
    "from pyspark.sql.functions import input_file_name, lit\n",
    "\n",
    "# Define S3 path\n",
    "s3_base = \"s3a://marketing-data-bucket-09/marketing_data\"\n",
    "\n",
    "# Input paths for each channel\n",
    "web_path     = f\"{s3_base}/transactions/web/\"\n",
    "mobile_path  = f\"{s3_base}/transactions/mobile/\"\n",
    "instore_path = f\"{s3_base}/transactions/instore/\"\n",
    "\n",
    "# Read web transactions\n",
    "df_web = spark.read.option(\"header\", True).csv(web_path) \\\n",
    "    .withColumn(\"channel\", lit(\"web\"))\n",
    "\n",
    "# Read mobile transactions\n",
    "df_mobile = spark.read.option(\"header\", True).csv(mobile_path) \\\n",
    "    .withColumn(\"channel\", lit(\"mobile\"))\n",
    "\n",
    "# Read instore transactions\n",
    "df_instore = spark.read.option(\"header\", True).csv(instore_path) \\\n",
    "    .withColumn(\"channel\", lit(\"instore\"))\n",
    "\n",
    "# Combine all into a single df\n",
    "df_transactions = df_web.unionByName(df_mobile).unionByName(df_instore)\n",
    "\n",
    "# Preview schema\n",
    "df_transactions.printSchema()\n",
    "df_transactions.show(5)\n",
    "\n",
    "# Bronze output path for raw data\n",
    "bronze_output = f\"{s3_base}/output/bronze/transactions_bronze\"\n",
    "\n",
    "# Write as managed Delta table to Bronze layer\n",
    "df_transactions.write.format(\"delta\").mode(\"overwrite\").save(bronze_output)\n"
   ]
  },
  {
   "cell_type": "markdown",
   "metadata": {
    "application/vnd.databricks.v1+cell": {
     "cellMetadata": {},
     "inputWidgets": {},
     "nuid": "74661552-1466-40a6-acee-28b4465b7ace",
     "showTitle": false,
     "tableResultSettingsMap": {},
     "title": ""
    }
   },
   "source": [
    "## **Clean & join transaction data (Bronze) with product catalog to create Silver Layer (enriched Delta table)**"
   ]
  },
  {
   "cell_type": "code",
   "execution_count": 0,
   "metadata": {
    "application/vnd.databricks.v1+cell": {
     "cellMetadata": {
      "byteLimit": 2048000,
      "rowLimit": 10000
     },
     "inputWidgets": {},
     "nuid": "2f391a1f-ad1c-4e64-93cd-d8ec376a8286",
     "showTitle": false,
     "tableResultSettingsMap": {},
     "title": ""
    }
   },
   "outputs": [],
   "source": [
    "from pyspark.sql.functions import col\n",
    "from delta.tables import *\n",
    "\n",
    "# Set paths\n",
    "bronze_path = \"s3a://marketing-data-bucket-09/marketing_data/output/bronze/transactions_bronze/\"\n",
    "product_path = \"s3a://marketing-data-bucket-09/marketing_data/products/product_catalog.csv\"\n",
    "silver_path = \"s3a://marketing-data-bucket-09/marketing_data/output/silver/transactions_enriched\"\n",
    "\n",
    "# Read bronze transaction data\n",
    "bronze_df = spark.read.format(\"delta\").load(bronze_path)\n",
    "\n",
    "# Read product catalog (CSV)\n",
    "products_df = spark.read.option(\"header\", True).csv(product_path)\n",
    "\n",
    "# Join transactions with product catalog on product_id\n",
    "silver_df = bronze_df.join(products_df, on=\"product_id\", how=\"left\")\n",
    "\n",
    "# Optional: Filter bad records (e.g., no product match)\n",
    "silver_df_clean = silver_df.filter(col(\"product_name\").isNotNull())\n",
    "\n",
    "# Write Silver table to Delta\n",
    "silver_df_clean.write.format(\"delta\").mode(\"overwrite\").save(silver_path)\n"
   ]
  },
  {
   "cell_type": "code",
   "execution_count": 0,
   "metadata": {
    "application/vnd.databricks.v1+cell": {
     "cellMetadata": {
      "byteLimit": 2048000,
      "rowLimit": 10000
     },
     "inputWidgets": {},
     "nuid": "d9360b29-d9a3-4f79-a513-bdd266838484",
     "showTitle": false,
     "tableResultSettingsMap": {},
     "title": ""
    }
   },
   "outputs": [
    {
     "output_type": "display_data",
     "data": {
      "text/html": [
       "<style scoped>\n",
       "  .table-result-container {\n",
       "    max-height: 300px;\n",
       "    overflow: auto;\n",
       "  }\n",
       "  table, th, td {\n",
       "    border: 1px solid black;\n",
       "    border-collapse: collapse;\n",
       "  }\n",
       "  th, td {\n",
       "    padding: 5px;\n",
       "  }\n",
       "  th {\n",
       "    text-align: left;\n",
       "  }\n",
       "</style><div class='table-result-container'><table class='table-result'><thead style='background-color: white'><tr><th>product_id</th><th>transaction_id</th><th>customer_id</th><th>amount</th><th>channel</th><th>transaction_date</th><th>campaign_id</th><th>product_name</th><th>category</th><th>price</th></tr></thead><tbody><tr><td>PRD00010</td><td>TXN00000003</td><td>CUST00019</td><td>333.49</td><td>instore</td><td>2024-02-14</td><td>CAMPAIGN1</td><td>Tablet</td><td>Electronics</td><td>1008.7</td></tr><tr><td>PRD00087</td><td>TXN00000008</td><td>CUST00495</td><td>3223.51</td><td>instore</td><td>2024-03-22</td><td>CAMPAIGN1</td><td>Phone</td><td>Accessories</td><td>1417.75</td></tr><tr><td>PRD00074</td><td>TXN00000009</td><td>CUST00153</td><td>1789.65</td><td>instore</td><td>2024-02-04</td><td>null</td><td>Laptop</td><td>Accessories</td><td>1721.96</td></tr><tr><td>PRD00047</td><td>TXN00000016</td><td>CUST00431</td><td>4384.5</td><td>instore</td><td>2024-04-08</td><td>CAMPAIGN1</td><td>Laptop</td><td>Electronics</td><td>1492.17</td></tr><tr><td>PRD00078</td><td>TXN00000017</td><td>CUST00131</td><td>1302.32</td><td>instore</td><td>2024-02-25</td><td>null</td><td>Tablet</td><td>Computers</td><td>1474.46</td></tr><tr><td>PRD00016</td><td>TXN00000024</td><td>CUST00296</td><td>768.17</td><td>instore</td><td>2024-06-17</td><td>CAMPAIGN2</td><td>Headphones</td><td>Computers</td><td>1401.37</td></tr><tr><td>PRD00077</td><td>TXN00000028</td><td>CUST00025</td><td>225.86</td><td>instore</td><td>2024-01-28</td><td>null</td><td>Monitor</td><td>Computers</td><td>298.1</td></tr><tr><td>PRD00072</td><td>TXN00000029</td><td>CUST00343</td><td>4120.67</td><td>instore</td><td>2024-04-17</td><td>null</td><td>Laptop</td><td>Accessories</td><td>1322.7</td></tr><tr><td>PRD00040</td><td>TXN00000030</td><td>CUST00356</td><td>4681.04</td><td>instore</td><td>2024-06-11</td><td>CAMPAIGN1</td><td>Headphones</td><td>Accessories</td><td>700.61</td></tr><tr><td>PRD00008</td><td>TXN00000034</td><td>CUST00026</td><td>3493.1</td><td>instore</td><td>2024-02-05</td><td>CAMPAIGN2</td><td>Headphones</td><td>Electronics</td><td>1381.91</td></tr></tbody></table></div>"
      ]
     },
     "metadata": {
      "application/vnd.databricks.v1+output": {
       "addedWidgets": {},
       "aggData": [],
       "aggError": "",
       "aggOverflow": false,
       "aggSchema": [],
       "aggSeriesLimitReached": false,
       "aggType": "",
       "arguments": {},
       "columnCustomDisplayInfos": {},
       "data": [
        [
         "PRD00010",
         "TXN00000003",
         "CUST00019",
         "333.49",
         "instore",
         "2024-02-14",
         "CAMPAIGN1",
         "Tablet",
         "Electronics",
         "1008.7"
        ],
        [
         "PRD00087",
         "TXN00000008",
         "CUST00495",
         "3223.51",
         "instore",
         "2024-03-22",
         "CAMPAIGN1",
         "Phone",
         "Accessories",
         "1417.75"
        ],
        [
         "PRD00074",
         "TXN00000009",
         "CUST00153",
         "1789.65",
         "instore",
         "2024-02-04",
         null,
         "Laptop",
         "Accessories",
         "1721.96"
        ],
        [
         "PRD00047",
         "TXN00000016",
         "CUST00431",
         "4384.5",
         "instore",
         "2024-04-08",
         "CAMPAIGN1",
         "Laptop",
         "Electronics",
         "1492.17"
        ],
        [
         "PRD00078",
         "TXN00000017",
         "CUST00131",
         "1302.32",
         "instore",
         "2024-02-25",
         null,
         "Tablet",
         "Computers",
         "1474.46"
        ],
        [
         "PRD00016",
         "TXN00000024",
         "CUST00296",
         "768.17",
         "instore",
         "2024-06-17",
         "CAMPAIGN2",
         "Headphones",
         "Computers",
         "1401.37"
        ],
        [
         "PRD00077",
         "TXN00000028",
         "CUST00025",
         "225.86",
         "instore",
         "2024-01-28",
         null,
         "Monitor",
         "Computers",
         "298.1"
        ],
        [
         "PRD00072",
         "TXN00000029",
         "CUST00343",
         "4120.67",
         "instore",
         "2024-04-17",
         null,
         "Laptop",
         "Accessories",
         "1322.7"
        ],
        [
         "PRD00040",
         "TXN00000030",
         "CUST00356",
         "4681.04",
         "instore",
         "2024-06-11",
         "CAMPAIGN1",
         "Headphones",
         "Accessories",
         "700.61"
        ],
        [
         "PRD00008",
         "TXN00000034",
         "CUST00026",
         "3493.1",
         "instore",
         "2024-02-05",
         "CAMPAIGN2",
         "Headphones",
         "Electronics",
         "1381.91"
        ]
       ],
       "datasetInfos": [],
       "dbfsResultPath": null,
       "isJsonSchema": true,
       "metadata": {},
       "overflow": false,
       "plotOptions": {
        "customPlotOptions": {},
        "displayType": "table",
        "pivotAggregation": null,
        "pivotColumns": null,
        "xColumns": null,
        "yColumns": null
       },
       "removedWidgets": [],
       "schema": [
        {
         "metadata": "{}",
         "name": "product_id",
         "type": "\"string\""
        },
        {
         "metadata": "{}",
         "name": "transaction_id",
         "type": "\"string\""
        },
        {
         "metadata": "{}",
         "name": "customer_id",
         "type": "\"string\""
        },
        {
         "metadata": "{}",
         "name": "amount",
         "type": "\"string\""
        },
        {
         "metadata": "{}",
         "name": "channel",
         "type": "\"string\""
        },
        {
         "metadata": "{}",
         "name": "transaction_date",
         "type": "\"string\""
        },
        {
         "metadata": "{}",
         "name": "campaign_id",
         "type": "\"string\""
        },
        {
         "metadata": "{}",
         "name": "product_name",
         "type": "\"string\""
        },
        {
         "metadata": "{}",
         "name": "category",
         "type": "\"string\""
        },
        {
         "metadata": "{}",
         "name": "price",
         "type": "\"string\""
        }
       ],
       "type": "table"
      }
     },
     "output_type": "display_data"
    }
   ],
   "source": [
    "display(spark.read.format(\"delta\").load(silver_path).limit(10))"
   ]
  },
  {
   "cell_type": "markdown",
   "metadata": {
    "application/vnd.databricks.v1+cell": {
     "cellMetadata": {},
     "inputWidgets": {},
     "nuid": "c8bc515a-eef8-4218-92d1-be9663d2b39f",
     "showTitle": false,
     "tableResultSettingsMap": {},
     "title": ""
    }
   },
   "source": [
    "## **Now let's Check Data Quality Before Creating Gold Table**"
   ]
  },
  {
   "cell_type": "code",
   "execution_count": 0,
   "metadata": {
    "application/vnd.databricks.v1+cell": {
     "cellMetadata": {},
     "inputWidgets": {},
     "nuid": "62104540-1dc3-4a04-a8d7-2ae86c4203b6",
     "showTitle": false,
     "tableResultSettingsMap": {},
     "title": ""
    }
   },
   "outputs": [],
   "source": [
    "%restart_python"
   ]
  },
  {
   "cell_type": "code",
   "execution_count": 0,
   "metadata": {
    "application/vnd.databricks.v1+cell": {
     "cellMetadata": {
      "byteLimit": 2048000,
      "rowLimit": 10000
     },
     "inputWidgets": {},
     "nuid": "88d57f42-09b2-4e21-a2d6-d150374c58db",
     "showTitle": false,
     "tableResultSettingsMap": {},
     "title": ""
    }
   },
   "outputs": [
    {
     "output_type": "stream",
     "name": "stdout",
     "output_type": "stream",
     "text": [
      "Null Check:\nsum(transaction_id): 0 nulls\nsum(product_id): 0 nulls\nsum(amount): 0 nulls\n\nAmount out of range (0–10,000): 0 rows\n\nInvalid product_id format: 0 rows\n\nDuplicate transaction_id: 0 rows\n"
     ]
    }
   ],
   "source": [
    "from pyspark.sql.functions import col\n",
    "\n",
    "# Check for null values in transaction_id, product_id, and amount columns\n",
    "null_counts = silver_df.select([\n",
    "    col(c).isNull().cast(\"int\").alias(c) for c in [\"transaction_id\", \"product_id\", \"amount\"]\n",
    "]).groupBy().sum().collect()[0].asDict()\n",
    "\n",
    "print(\"Null Check:\")\n",
    "for col_name, null_count in null_counts.items():\n",
    "    print(f\"{col_name}: {null_count} nulls\")\n",
    "\n",
    "# Check valid amount range (0–10,000)\n",
    "out_of_range = silver_df.filter((col(\"amount\") < 0) | (col(\"amount\") > 10000)).count()\n",
    "print(f\"\\nAmount out of range (0–10,000): {out_of_range} rows\")\n",
    "\n",
    "# Check for malformed product IDs (e.g., PRD1234)\n",
    "invalid_products = silver_df.filter(~col(\"product_id\").rlike(\"^PRD\\\\d{5}$\")).count()\n",
    "print(f\"\\nInvalid product_id format: {invalid_products} rows\")\n",
    "\n",
    "# Checking for Duplicate transaction IDs  \n",
    "duplicate_txns = silver_df.groupBy(\"transaction_id\").count().filter(\"count > 1\").count()\n",
    "print(f\"\\nDuplicate transaction_id: {duplicate_txns} rows\")\n"
   ]
  },
  {
   "cell_type": "markdown",
   "metadata": {
    "application/vnd.databricks.v1+cell": {
     "cellMetadata": {},
     "inputWidgets": {},
     "nuid": "f106a3c7-b2da-4273-8ba5-0ade521fef17",
     "showTitle": false,
     "tableResultSettingsMap": {},
     "title": ""
    }
   },
   "source": [
    "## **Loading Cleaned Data into Gold Delta Table**"
   ]
  },
  {
   "cell_type": "code",
   "execution_count": 0,
   "metadata": {
    "application/vnd.databricks.v1+cell": {
     "cellMetadata": {
      "byteLimit": 2048000,
      "rowLimit": 10000
     },
     "inputWidgets": {},
     "nuid": "01433e15-47af-4917-85d4-308cf5ca99df",
     "showTitle": false,
     "tableResultSettingsMap": {},
     "title": ""
    }
   },
   "outputs": [
    {
     "output_type": "execute_result",
     "data": {
      "text/plain": [
       "DataFrame[]"
      ]
     },
     "execution_count": 23,
     "metadata": {},
     "output_type": "execute_result"
    }
   ],
   "source": [
    "from pyspark.sql import functions as F\n",
    "\n",
    "# Reading Silver Table\n",
    "silver_df = spark.read.format(\"delta\").load(\"s3://marketing-data-bucket-09/marketing_data/output/silver/transactions_enriched\")\n",
    "\n",
    "# Some Business Aggregations for example\n",
    "# Total revenue per channel and category\n",
    "gold_df = silver_df.groupBy(\"channel\", \"category\").agg(\n",
    "    F.sum(\"amount\").alias(\"total_revenue\"),\n",
    "    F.countDistinct(\"customer_id\").alias(\"unique_customers\"),\n",
    "    F.count(\"*\").alias(\"transaction_count\")\n",
    ")\n",
    "\n",
    "# Write it into Gold Layer Delta Table\n",
    "gold_df.write.format(\"delta\") \\\n",
    "    .mode(\"overwrite\") \\\n",
    "    .save(\"s3://marketing-data-bucket-09/marketing_data/output/gold/channel_category_summary\")\n",
    "\n",
    "# Register as a table for future BI tools\n",
    "spark.sql(\"\"\"\n",
    "    CREATE TABLE IF NOT EXISTS channel_category_summary\n",
    "    USING DELTA\n",
    "    LOCATION 's3://marketing-data-bucket-09/marketing_data/output/gold/channel_category_summary'\n",
    "\"\"\")\n"
   ]
  },
  {
   "cell_type": "markdown",
   "metadata": {
    "application/vnd.databricks.v1+cell": {
     "cellMetadata": {},
     "inputWidgets": {},
     "nuid": "fc616564-a088-45c4-be8b-fb59e5eeca4f",
     "showTitle": false,
     "tableResultSettingsMap": {},
     "title": ""
    }
   },
   "source": [
    "# Delta time Travel & Audits"
   ]
  },
  {
   "cell_type": "markdown",
   "metadata": {
    "application/vnd.databricks.v1+cell": {
     "cellMetadata": {},
     "inputWidgets": {},
     "nuid": "8a95b7ee-8ca1-4ac9-9853-01877a6d785d",
     "showTitle": false,
     "tableResultSettingsMap": {},
     "title": ""
    }
   },
   "source": [
    "**Check Available Versions**"
   ]
  },
  {
   "cell_type": "code",
   "execution_count": 0,
   "metadata": {
    "application/vnd.databricks.v1+cell": {
     "cellMetadata": {
      "byteLimit": 2048000,
      "rowLimit": 10000
     },
     "inputWidgets": {},
     "nuid": "2f8317fc-c41b-420a-95e6-ef92af367424",
     "showTitle": false,
     "tableResultSettingsMap": {},
     "title": ""
    }
   },
   "outputs": [
    {
     "output_type": "stream",
     "name": "stdout",
     "output_type": "stream",
     "text": [
      "+-------+-------------------+---------------+------------------------+---------+------------------------------------------------------------+----+------------------+-------------------+-----------+-----------------+-------------+-----------------------------------------------------------+------------+------------------------------------------+\n|version|timestamp          |userId         |userName                |operation|operationParameters                                         |job |notebook          |clusterId          |readVersion|isolationLevel   |isBlindAppend|operationMetrics                                           |userMetadata|engineInfo                                |\n+-------+-------------------+---------------+------------------------+---------+------------------------------------------------------------+----+------------------+-------------------+-----------+-----------------+-------------+-----------------------------------------------------------+------------+------------------------------------------+\n|0      |2025-07-09 15:19:50|778478498229670|mananpujara666@gmail.com|WRITE    |{mode -> Overwrite, statsOnLoad -> false, partitionBy -> []}|NULL|{2332612697803654}|0709-140738-comagsh|NULL       |WriteSerializable|false        |{numFiles -> 1, numOutputRows -> 9, numOutputBytes -> 1792}|NULL        |Databricks-Runtime/15.4.x-photon-scala2.12|\n+-------+-------------------+---------------+------------------------+---------+------------------------------------------------------------+----+------------------+-------------------+-----------+-----------------+-------------+-----------------------------------------------------------+------------+------------------------------------------+\n\n"
     ]
    }
   ],
   "source": [
    "# See commit history for the Delta table from gold layer\n",
    "gold_table_path = \"s3a://marketing-data-bucket-09/marketing_data/output/gold/channel_category_summary\"\n",
    "\n",
    "from delta.tables import DeltaTable\n",
    "\n",
    "delta_table = DeltaTable.forPath(spark, gold_table_path)\n",
    "delta_table.history().show(truncate=False)\n"
   ]
  },
  {
   "cell_type": "markdown",
   "metadata": {
    "application/vnd.databricks.v1+cell": {
     "cellMetadata": {},
     "inputWidgets": {},
     "nuid": "988afef9-c13b-41bc-8781-5a35772e7063",
     "showTitle": false,
     "tableResultSettingsMap": {},
     "title": ""
    }
   },
   "source": [
    "**Time Traveling**"
   ]
  },
  {
   "cell_type": "code",
   "execution_count": 0,
   "metadata": {
    "application/vnd.databricks.v1+cell": {
     "cellMetadata": {
      "byteLimit": 2048000,
      "rowLimit": 10000
     },
     "inputWidgets": {},
     "nuid": "775a1ba6-f1c2-4a5c-9be9-6d3fec15338c",
     "showTitle": false,
     "tableResultSettingsMap": {},
     "title": ""
    }
   },
   "outputs": [
    {
     "output_type": "stream",
     "name": "stdout",
     "output_type": "stream",
     "text": [
      "Current Version:\n+-------+-----------+------------------+----------------+-----------------+\n|channel|   category|     total_revenue|unique_customers|transaction_count|\n+-------+-----------+------------------+----------------+-----------------+\n|    web|  Computers|        2740357.86|             430|             1075|\n| mobile|Electronics|2193510.2299999977|             404|              860|\n|instore|  Computers| 2576285.130000001|             447|             1022|\n| mobile|  Computers|2707976.7200000016|             447|             1069|\n|    web|Electronics|2199698.7299999995|             416|              878|\n|instore|Accessories|3609763.2199999965|             475|             1445|\n|instore|Electronics|2153074.6399999987|             411|              857|\n| mobile|Accessories|3474774.6399999983|             471|             1369|\n|    web|Accessories|3574811.3600000003|             463|             1425|\n+-------+-----------+------------------+----------------+-----------------+\n\nTime Travel to Version 0:\n+-------+-----------+------------------+----------------+-----------------+\n|channel|   category|     total_revenue|unique_customers|transaction_count|\n+-------+-----------+------------------+----------------+-----------------+\n|    web|  Computers|        2740357.86|             430|             1075|\n| mobile|Electronics|2193510.2299999977|             404|              860|\n|instore|  Computers| 2576285.130000001|             447|             1022|\n| mobile|  Computers|2707976.7200000016|             447|             1069|\n|    web|Electronics|2199698.7299999995|             416|              878|\n|instore|Accessories|3609763.2199999965|             475|             1445|\n|instore|Electronics|2153074.6399999987|             411|              857|\n| mobile|Accessories|3474774.6399999983|             471|             1369|\n|    web|Accessories|3574811.3600000003|             463|             1425|\n+-------+-----------+------------------+----------------+-----------------+\n\n"
     ]
    }
   ],
   "source": [
    "from pyspark.sql import SparkSession\n",
    "\n",
    "# Repointing to the gold delta table\n",
    "gold_table_path = \"s3a://marketing-data-bucket-09/marketing_data/output/gold/channel_category_summary\"\n",
    "\n",
    "# Reading current version \n",
    "df_latest = spark.read.format(\"delta\").load(gold_table_path)\n",
    "print(\"Current Version:\")\n",
    "df_latest.show()\n",
    "\n",
    "# Reading specific version (like version 0)\n",
    "df_v0 = spark.read.format(\"delta\").option(\"versionAsOf\", 0).load(gold_table_path)\n",
    "print(\"Time Travel to Version 0:\")\n",
    "df_v0.show()\n"
   ]
  },
  {
   "cell_type": "markdown",
   "metadata": {
    "application/vnd.databricks.v1+cell": {
     "cellMetadata": {},
     "inputWidgets": {},
     "nuid": "06798814-02ef-4d05-bc0e-e49c17c6747a",
     "showTitle": false,
     "tableResultSettingsMap": {},
     "title": ""
    }
   },
   "source": [
    "## Optimizing storage "
   ]
  },
  {
   "cell_type": "markdown",
   "metadata": {
    "application/vnd.databricks.v1+cell": {
     "cellMetadata": {},
     "inputWidgets": {},
     "nuid": "5bb66c3a-335e-471e-8747-040a12c03adb",
     "showTitle": false,
     "tableResultSettingsMap": {},
     "title": ""
    }
   },
   "source": [
    "**OPTIMIZE for improve performance by compacting small files**<br>\n",
    "**VACUUM for clean up old data files not needed for time travel**"
   ]
  },
  {
   "cell_type": "code",
   "execution_count": 0,
   "metadata": {
    "application/vnd.databricks.v1+cell": {
     "cellMetadata": {
      "byteLimit": 2048000,
      "rowLimit": 10000
     },
     "inputWidgets": {},
     "nuid": "cfde0bc4-6ff0-45c7-8f34-835271c39fae",
     "showTitle": false,
     "tableResultSettingsMap": {},
     "title": ""
    }
   },
   "outputs": [
    {
     "output_type": "execute_result",
     "data": {
      "text/plain": [
       "DataFrame[path: string]"
      ]
     },
     "execution_count": 35,
     "metadata": {},
     "output_type": "execute_result"
    }
   ],
   "source": [
    "spark.sql(f\"OPTIMIZE delta.`{gold_table_path}`\")\n",
    "\n",
    "spark.sql(f\"VACUUM delta.`{gold_table_path}` RETAIN 168 HOURS\") #retain for 7 days"
   ]
  }
 ],
 "metadata": {
  "application/vnd.databricks.v1+notebook": {
   "computePreferences": null,
   "dashboards": [],
   "environmentMetadata": {
    "base_environment": "",
    "environment_version": "2"
   },
   "inputWidgetPreferences": null,
   "language": "python",
   "notebookMetadata": {
    "pythonIndentUnit": 4
   },
   "notebookName": "Main_DBC",
   "widgets": {}
  },
  "language_info": {
   "name": "python"
  }
 },
 "nbformat": 4,
 "nbformat_minor": 0
}