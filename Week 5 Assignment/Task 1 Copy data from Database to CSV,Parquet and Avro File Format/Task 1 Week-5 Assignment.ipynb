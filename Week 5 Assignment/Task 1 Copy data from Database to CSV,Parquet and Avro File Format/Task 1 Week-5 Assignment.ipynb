{
 "cells": [
  {
   "cell_type": "code",
   "execution_count": 8,
   "id": "3b6ab392",
   "metadata": {},
   "outputs": [],
   "source": [
    "import mysql.connector as connection\n",
    "import pandas as pd"
   ]
  },
  {
   "cell_type": "code",
   "execution_count": 3,
   "id": "618494b8",
   "metadata": {},
   "outputs": [
    {
     "name": "stdout",
     "output_type": "stream",
     "text": [
      "[(1, 'Davolio', 'Nancy', datetime.date(1968, 12, 8), 'EmpID1.pic', \"Education includes a BA in psychology from Colorado State University. She also completed (The Art of the Cold Call). Nancy is a member of 'Toastmasters International'.\"), (2, 'Fuller', 'Andrew', datetime.date(1952, 2, 19), 'EmpID2.pic', 'Andrew received his BTS commercial and a Ph.D. in international marketing from the University of Dallas. He is fluent in French and Italian and reads German. He joined the company as a sales representative, was promoted to sales manager and was then named vice president of sales. Andrew is a member of the Sales Management Roundtable, the Seattle Chamber of Commerce, and the Pacific Rim Importers Association.'), (3, 'Leverling', 'Janet', datetime.date(1963, 8, 30), 'EmpID3.pic', 'Janet has a BS degree in chemistry from Boston College). She has also completed a certificate program in food retailing management. Janet was hired as a sales associate and was promoted to sales representative.'), (4, 'Peacock', 'Margaret', datetime.date(1958, 9, 19), 'EmpID4.pic', 'Margaret holds a BA in English literature from Concordia College and an MA from the American Institute of Culinary Arts. She was temporarily assigned to the London office before returning to her permanent post in Seattle.'), (5, 'Buchanan', 'Steven', datetime.date(1955, 3, 4), 'EmpID5.pic', \"Steven Buchanan graduated from St. Andrews University, Scotland, with a BSC degree. Upon joining the company as a sales representative, he spent 6 months in an orientation program at the Seattle office and then returned to his permanent post in London, where he was promoted to sales manager. Mr. Buchanan has completed the courses 'Successful Telemarketing' and 'International Sales Management'. He is fluent in French.\"), (6, 'Suyama', 'Michael', datetime.date(1963, 7, 2), 'EmpID6.pic', \"Michael is a graduate of Sussex University (MA, economics) and the University of California at Los Angeles (MBA, marketing). He has also taken the courses 'Multi-Cultural Selling' and 'Time Management for the Sales Professional'. He is fluent in Japanese and can read and write French, Portuguese, and Spanish.\"), (7, 'King', 'Robert', datetime.date(1960, 5, 29), 'EmpID7.pic', \"Robert King served in the Peace Corps and traveled extensively before completing his degree in English at the University of Michigan and then joining the company. After completing a course entitled 'Selling in Europe', he was transferred to the London office.\"), (8, 'Callahan', 'Laura', datetime.date(1958, 1, 9), 'EmpID8.pic', 'Laura received a BA in psychology from the University of Washington. She has also completed a course in business French. She reads and writes French.'), (9, 'Dodsworth', 'Anne', datetime.date(1969, 7, 2), 'EmpID9.pic', 'Anne has a BA degree in English from St. Lawrence College. She is fluent in French and German.'), (10, 'West', 'Adam', datetime.date(1928, 9, 19), 'EmpID10.pic', 'An old chum.')]\n"
     ]
    }
   ],
   "source": [
    "try:\n",
    "    mydb = connection.connect(host=\"localhost\",user=\"root\",passwd=\"Arvind@9799\",use_pure = True)\n",
    "    \n",
    "    query =  \"SELECT * FROM w3schools.employees\"\n",
    "    \n",
    "    cursor = mydb.cursor()\n",
    "    cursor.execute(query)\n",
    "    print(cursor.fetchall())\n",
    "    \n",
    "except Exception as e:\n",
    "    mydb.close()\n",
    "    print(str(e))"
   ]
  },
  {
   "cell_type": "code",
   "execution_count": 9,
   "id": "ee09b52a",
   "metadata": {},
   "outputs": [
    {
     "name": "stdout",
     "output_type": "stream",
     "text": [
      "Data successfully exported to employees_data.csv\n"
     ]
    },
    {
     "name": "stderr",
     "output_type": "stream",
     "text": [
      "C:\\Users\\Dell\\AppData\\Local\\Temp\\ipykernel_40840\\4240109480.py:2: UserWarning: pandas only supports SQLAlchemy connectable (engine/connection) or database string URI or sqlite3 DBAPI2 connection. Other DBAPI2 objects are not tested. Please consider using SQLAlchemy.\n",
      "  df = pd.read_sql(query, mydb)\n"
     ]
    }
   ],
   "source": [
    "query = \"SELECT * FROM w3schools.employees\"\n",
    "df = pd.read_sql(query, mydb)\n",
    "    \n",
    "    # Save data to CSV file\n",
    "csv_file = 'employees_data.csv'\n",
    "df.to_csv(csv_file, index=False)\n",
    "    \n",
    "print(f\"Data successfully exported to {csv_file}\")\n",
    "    "
   ]
  },
  {
   "cell_type": "code",
   "execution_count": 10,
   "id": "2a77597c",
   "metadata": {},
   "outputs": [
    {
     "name": "stdout",
     "output_type": "stream",
     "text": [
      "Requirement already satisfied: pandas in c:\\users\\dell\\anaconda3\\lib\\site-packages (1.5.3)\n",
      "Requirement already satisfied: pyarrow in c:\\users\\dell\\anaconda3\\lib\\site-packages (16.1.0)\n",
      "Requirement already satisfied: python-dateutil>=2.8.1 in c:\\users\\dell\\anaconda3\\lib\\site-packages (from pandas) (2.8.2)\n",
      "Requirement already satisfied: numpy>=1.21.0 in c:\\users\\dell\\anaconda3\\lib\\site-packages (from pandas) (1.23.5)\n",
      "Requirement already satisfied: pytz>=2020.1 in c:\\users\\dell\\anaconda3\\lib\\site-packages (from pandas) (2022.7)\n",
      "Requirement already satisfied: six>=1.5 in c:\\users\\dell\\anaconda3\\lib\\site-packages (from python-dateutil>=2.8.1->pandas) (1.16.0)\n",
      "Note: you may need to restart the kernel to use updated packages.\n"
     ]
    }
   ],
   "source": [
    "pip install pandas pyarrow\n"
   ]
  },
  {
   "cell_type": "code",
   "execution_count": 12,
   "id": "a6754635",
   "metadata": {},
   "outputs": [
    {
     "name": "stdout",
     "output_type": "stream",
     "text": [
      "Data successfully exported to employees_data.parquet\n"
     ]
    }
   ],
   "source": [
    "import pyarrow as pa\n",
    "import pyarrow.parquet as pq\n",
    "\n",
    "parquet_file = 'employees_data.parquet'\n",
    "    \n",
    "# Convert DataFrame to Parquet\n",
    "table = pa.Table.from_pandas(df)\n",
    "pq.write_table(table, parquet_file)\n",
    "    \n",
    "print(f\"Data successfully exported to {parquet_file}\")\n",
    "\n"
   ]
  },
  {
   "cell_type": "code",
   "execution_count": 13,
   "id": "f5ac33d3",
   "metadata": {},
   "outputs": [
    {
     "name": "stdout",
     "output_type": "stream",
     "text": [
      "Requirement already satisfied: mysql-connector-python in c:\\users\\dell\\anaconda3\\lib\\site-packages (8.4.0)Note: you may need to restart the kernel to use updated packages.\n",
      "\n",
      "Requirement already satisfied: pandas in c:\\users\\dell\\anaconda3\\lib\\site-packages (1.5.3)\n",
      "Requirement already satisfied: fastavro in c:\\users\\dell\\anaconda3\\lib\\site-packages (1.9.4)\n",
      "Requirement already satisfied: python-dateutil>=2.8.1 in c:\\users\\dell\\anaconda3\\lib\\site-packages (from pandas) (2.8.2)\n",
      "Requirement already satisfied: numpy>=1.21.0 in c:\\users\\dell\\anaconda3\\lib\\site-packages (from pandas) (1.23.5)\n",
      "Requirement already satisfied: pytz>=2020.1 in c:\\users\\dell\\anaconda3\\lib\\site-packages (from pandas) (2022.7)\n",
      "Requirement already satisfied: six>=1.5 in c:\\users\\dell\\anaconda3\\lib\\site-packages (from python-dateutil>=2.8.1->pandas) (1.16.0)\n"
     ]
    }
   ],
   "source": [
    "pip install mysql-connector-python pandas fastavro\n"
   ]
  },
  {
   "cell_type": "code",
   "execution_count": 24,
   "id": "1d47460c",
   "metadata": {},
   "outputs": [],
   "source": [
    "import fastavro\n",
    "from datetime import datetime,date\n",
    "from io import BytesIO"
   ]
  },
  {
   "cell_type": "code",
   "execution_count": 19,
   "id": "120eedf0",
   "metadata": {},
   "outputs": [],
   "source": [
    "avro_schema = {\n",
    "    \"type\": \"record\",\n",
    "    \"name\": \"Employee\",\n",
    "    \"fields\": [\n",
    "        {\"name\": \"EmployeeID\", \"type\": [\"null\", \"int\"]},\n",
    "        {\"name\": \"LastName\", \"type\": [\"null\", \"string\"]},\n",
    "        {\"name\": \"FirstName\", \"type\": [\"null\", \"string\"]},\n",
    "        {\"name\": \"BirthDate\", \"type\": [\"null\", {\"type\": \"int\", \"logicalType\": \"date\"}]},\n",
    "        {\"name\": \"Photo\", \"type\": [\"null\", \"string\"]},\n",
    "        {\"name\": \"Notes\", \"type\": [\"null\", \"string\"]}\n",
    "    ]\n",
    "}"
   ]
  },
  {
   "cell_type": "code",
   "execution_count": 25,
   "id": "cc640c47",
   "metadata": {},
   "outputs": [
    {
     "name": "stdout",
     "output_type": "stream",
     "text": [
      "Data successfully exported to employees_data.avro\n"
     ]
    }
   ],
   "source": [
    "# Execute SQL query to fetch data\n",
    "query = \"SELECT * FROM w3schools.employees\"\n",
    "cursor = mydb.cursor(dictionary=True)  # Use dictionary cursor to fetch rows as dictionaries\n",
    "cursor.execute(query)\n",
    "rows = cursor.fetchall()\n",
    "    \n",
    "    # Convert date format to Avro logicalType\n",
    "for row in rows:\n",
    "    if row['BirthDate'] is not None:\n",
    "# Convert datetime.date to Avro's logical type for date (milliseconds since Unix epoch)\n",
    "        row['BirthDate'] = date.toordinal(row['BirthDate'])\n",
    "    \n",
    "    # Serialize data to Avro\n",
    "with BytesIO() as avro_output:\n",
    "    fastavro.writer(avro_output, avro_schema, rows)\n",
    "        \n",
    "        # Write Avro file\n",
    "    with open('employees_data.avro', 'wb') as f:\n",
    "        f.write(avro_output.getvalue())\n",
    "    \n",
    "print(\"Data successfully exported to employees_data.avro\")"
   ]
  },
  {
   "cell_type": "code",
   "execution_count": null,
   "id": "836a65ed",
   "metadata": {},
   "outputs": [],
   "source": []
  }
 ],
 "metadata": {
  "kernelspec": {
   "display_name": "Python 3 (ipykernel)",
   "language": "python",
   "name": "python3"
  },
  "language_info": {
   "codemirror_mode": {
    "name": "ipython",
    "version": 3
   },
   "file_extension": ".py",
   "mimetype": "text/x-python",
   "name": "python",
   "nbconvert_exporter": "python",
   "pygments_lexer": "ipython3",
   "version": "3.10.9"
  }
 },
 "nbformat": 4,
 "nbformat_minor": 5
}
